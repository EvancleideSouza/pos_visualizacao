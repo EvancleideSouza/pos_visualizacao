{
 "cells": [
  {
   "cell_type": "markdown",
   "metadata": {},
   "source": [
    "Link do dataset http://dados.gov.br/dataset/solicitacoesregistradasnaanatel"
   ]
  },
  {
   "cell_type": "markdown",
   "metadata": {},
   "source": [
    "Informações adicionais:  \n",
    "\n",
    "| Campo            | Valor                                                        |  \n",
    "|------------------|--------------------------------------------------------------|\n",
    "|Campo\t|Valor\n",
    "|Fonte\t|https://www.anatel.gov.br/consumidor/index.php/component/content/article?id=163\n",
    "|Autor\t|Agência Nacional de Telecomunicações - Anatel\n",
    "|Mantenedor\t|Gerência de Tratamento de Solicitações de Consumidores - RCTS\n",
    "|Última |Atualização\t12 de Setembro de 2019, 11:49 (UTC-03:00)\n",
    "|Criado\t|16 de Novembro de 2017, 14:34 (UTC-02:00)\n",
    "|Granularidade\t|mensal\n",
    "\n"
   ]
  },
  {
   "cell_type": "code",
   "execution_count": 2,
   "metadata": {},
   "outputs": [],
   "source": [
    "#importando as bibliotecas\n",
    "import numpy as np\n",
    "import pandas as pd"
   ]
  },
  {
   "cell_type": "code",
   "execution_count": 5,
   "metadata": {},
   "outputs": [],
   "source": [
    "# Gerando um unico arquivo.\n",
    "arquivos = gl.glob('datasets/*.csv')\n",
    "\n",
    "df = []\n",
    "\n",
    "for x in arquivos:\n",
    "    temp_df = pd.read_csv(x, sep=';',encoding='latin-1')\n",
    "    df.append(temp_df)"
   ]
  },
  {
   "cell_type": "code",
   "execution_count": 9,
   "metadata": {},
   "outputs": [],
   "source": [
    "df_anatel.to_csv('anatel.csv')"
   ]
  },
  {
   "cell_type": "code",
   "execution_count": 7,
   "metadata": {},
   "outputs": [],
   "source": [
    "df = pd.read_csv('anatel.csv')"
   ]
  }
 ],
 "metadata": {
  "kernelspec": {
   "display_name": "Python 3",
   "language": "python",
   "name": "python3"
  },
  "language_info": {
   "codemirror_mode": {
    "name": "ipython",
    "version": 3
   },
   "file_extension": ".py",
   "mimetype": "text/x-python",
   "name": "python",
   "nbconvert_exporter": "python",
   "pygments_lexer": "ipython3",
   "version": "3.7.3"
  }
 },
 "nbformat": 4,
 "nbformat_minor": 2
}
