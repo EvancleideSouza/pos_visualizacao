{
 "cells": [
  {
   "cell_type": "markdown",
   "metadata": {},
   "source": [
    "Link do dataset http://dados.gov.br/dataset/solicitacoesregistradasnaanatel"
   ]
  },
  {
   "cell_type": "markdown",
   "metadata": {},
   "source": [
    "Informações adicionais:  \n",
    "\n",
    "| Campo            | Valor                                                        |  \n",
    "|------------------|--------------------------------------------------------------|\n",
    "|Campo\t|Valor\n",
    "|Fonte\t|https://www.anatel.gov.br/consumidor/index.php/component/content/article?id=163\n",
    "|Autor\t|Agência Nacional de Telecomunicações - Anatel\n",
    "|Mantenedor\t|Gerência de Tratamento de Solicitações de Consumidores - RCTS\n",
    "|Última |Atualização\t12 de Setembro de 2019, 11:49 (UTC-03:00)\n",
    "|Criado\t|16 de Novembro de 2017, 14:34 (UTC-02:00)\n",
    "|Granularidade\t|mensal\n",
    "\n"
   ]
  },
  {
   "cell_type": "code",
   "execution_count": 1,
   "metadata": {},
   "outputs": [],
   "source": [
    "#importando as bibliotecas\n",
    "import numpy as np\n",
    "import pandas as pd"
   ]
  },
  {
   "cell_type": "code",
   "execution_count": 2,
   "metadata": {},
   "outputs": [],
   "source": [
    "df = pd.read_csv('anatel.csv')"
   ]
  },
  {
   "cell_type": "code",
   "execution_count": 4,
   "metadata": {},
   "outputs": [
    {
     "data": {
      "text/html": [
       "<div>\n",
       "<style scoped>\n",
       "    .dataframe tbody tr th:only-of-type {\n",
       "        vertical-align: middle;\n",
       "    }\n",
       "\n",
       "    .dataframe tbody tr th {\n",
       "        vertical-align: top;\n",
       "    }\n",
       "\n",
       "    .dataframe thead th {\n",
       "        text-align: right;\n",
       "    }\n",
       "</style>\n",
       "<table border=\"1\" class=\"dataframe\">\n",
       "  <thead>\n",
       "    <tr style=\"text-align: right;\">\n",
       "      <th></th>\n",
       "      <th>Unnamed: 0</th>\n",
       "      <th>DataExtracao</th>\n",
       "      <th>Ano</th>\n",
       "      <th>Mes</th>\n",
       "      <th>CanalEntrada</th>\n",
       "      <th>Condicao</th>\n",
       "      <th>GrupoEconNorm</th>\n",
       "      <th>Tipo</th>\n",
       "      <th>Servico</th>\n",
       "      <th>Modalidade</th>\n",
       "      <th>Motivo</th>\n",
       "      <th>UF</th>\n",
       "      <th>QtdeSolic</th>\n",
       "    </tr>\n",
       "  </thead>\n",
       "  <tbody>\n",
       "    <tr>\n",
       "      <th>0</th>\n",
       "      <td>0</td>\n",
       "      <td>2016-04-19</td>\n",
       "      <td>2010</td>\n",
       "      <td>1</td>\n",
       "      <td>Atendimento Pessoal</td>\n",
       "      <td>Nova</td>\n",
       "      <td>OI</td>\n",
       "      <td>Reclamação</td>\n",
       "      <td>Serviço Telefônico Fixo Comutado - STFC</td>\n",
       "      <td>Local</td>\n",
       "      <td>Cancelamento</td>\n",
       "      <td>MS</td>\n",
       "      <td>1</td>\n",
       "    </tr>\n",
       "    <tr>\n",
       "      <th>1</th>\n",
       "      <td>1</td>\n",
       "      <td>2016-04-19</td>\n",
       "      <td>2010</td>\n",
       "      <td>1</td>\n",
       "      <td>Call Center</td>\n",
       "      <td>Nova</td>\n",
       "      <td>ALGAR</td>\n",
       "      <td>Reclamação</td>\n",
       "      <td>Móvel Pessoal</td>\n",
       "      <td>Pós-Pago</td>\n",
       "      <td>Serviços Adicionais</td>\n",
       "      <td>MS</td>\n",
       "      <td>1</td>\n",
       "    </tr>\n",
       "    <tr>\n",
       "      <th>2</th>\n",
       "      <td>2</td>\n",
       "      <td>2016-04-19</td>\n",
       "      <td>2010</td>\n",
       "      <td>1</td>\n",
       "      <td>Call Center</td>\n",
       "      <td>Nova</td>\n",
       "      <td>Anatel</td>\n",
       "      <td>Pedido de Informação</td>\n",
       "      <td>Móvel Pessoal</td>\n",
       "      <td>Pós-Pago</td>\n",
       "      <td>Cobrança</td>\n",
       "      <td>MS</td>\n",
       "      <td>1</td>\n",
       "    </tr>\n",
       "    <tr>\n",
       "      <th>3</th>\n",
       "      <td>3</td>\n",
       "      <td>2016-04-19</td>\n",
       "      <td>2010</td>\n",
       "      <td>1</td>\n",
       "      <td>Call Center</td>\n",
       "      <td>Nova</td>\n",
       "      <td>Anatel</td>\n",
       "      <td>Pedido de Informação</td>\n",
       "      <td>Serviço de Comunicação Multimídia</td>\n",
       "      <td>Internet Via Rádio</td>\n",
       "      <td>Outros</td>\n",
       "      <td>MS</td>\n",
       "      <td>1</td>\n",
       "    </tr>\n",
       "    <tr>\n",
       "      <th>4</th>\n",
       "      <td>4</td>\n",
       "      <td>2016-04-19</td>\n",
       "      <td>2010</td>\n",
       "      <td>1</td>\n",
       "      <td>Call Center</td>\n",
       "      <td>Nova</td>\n",
       "      <td>CLARO</td>\n",
       "      <td>Pedido de Informação</td>\n",
       "      <td>Móvel Pessoal</td>\n",
       "      <td>Pós-Pago</td>\n",
       "      <td>Planos de serviço</td>\n",
       "      <td>MS</td>\n",
       "      <td>1</td>\n",
       "    </tr>\n",
       "  </tbody>\n",
       "</table>\n",
       "</div>"
      ],
      "text/plain": [
       "   Unnamed: 0 DataExtracao   Ano  Mes          CanalEntrada Condicao  \\\n",
       "0           0   2016-04-19  2010    1  Atendimento Pessoal      Nova   \n",
       "1           1   2016-04-19  2010    1           Call Center     Nova   \n",
       "2           2   2016-04-19  2010    1           Call Center     Nova   \n",
       "3           3   2016-04-19  2010    1           Call Center     Nova   \n",
       "4           4   2016-04-19  2010    1           Call Center     Nova   \n",
       "\n",
       "  GrupoEconNorm                  Tipo  \\\n",
       "0            OI            Reclamação   \n",
       "1         ALGAR            Reclamação   \n",
       "2        Anatel  Pedido de Informação   \n",
       "3        Anatel  Pedido de Informação   \n",
       "4         CLARO  Pedido de Informação   \n",
       "\n",
       "                                   Servico          Modalidade  \\\n",
       "0  Serviço Telefônico Fixo Comutado - STFC               Local   \n",
       "1                            Móvel Pessoal            Pós-Pago   \n",
       "2                            Móvel Pessoal            Pós-Pago   \n",
       "3        Serviço de Comunicação Multimídia  Internet Via Rádio   \n",
       "4                            Móvel Pessoal            Pós-Pago   \n",
       "\n",
       "                Motivo  UF  QtdeSolic  \n",
       "0         Cancelamento  MS          1  \n",
       "1  Serviços Adicionais  MS          1  \n",
       "2             Cobrança  MS          1  \n",
       "3               Outros  MS          1  \n",
       "4    Planos de serviço  MS          1  "
      ]
     },
     "execution_count": 4,
     "metadata": {},
     "output_type": "execute_result"
    }
   ],
   "source": [
    "df.head()"
   ]
  },
  {
   "cell_type": "code",
   "execution_count": 6,
   "metadata": {},
   "outputs": [],
   "source": [
    "oper = df[['GrupoEconNorm','Servico','Motivo']]"
   ]
  },
  {
   "cell_type": "code",
   "execution_count": 9,
   "metadata": {},
   "outputs": [],
   "source": [
    "oper[:10].to_csv('operadoras.csv')"
   ]
  },
  {
   "cell_type": "code",
   "execution_count": 10,
   "metadata": {},
   "outputs": [
    {
     "name": "stdout",
     "output_type": "stream",
     "text": [
      ",GrupoEconNorm,Servico,Motivo\r\n",
      "0,OI,Serviço Telefônico Fixo Comutado - STFC,Cancelamento\r\n",
      "1,ALGAR,Móvel Pessoal,Serviços Adicionais\r\n",
      "2,Anatel,Móvel Pessoal,Cobrança\r\n",
      "3,Anatel,Serviço de Comunicação Multimídia,Outros\r\n",
      "4,CLARO,Móvel Pessoal,Planos de serviço\r\n",
      "5,CLARO,Móvel Pessoal,Bloqueio\r\n",
      "6,CLARO,Móvel Pessoal,Código de acesso\r\n",
      "7,CLARO,Móvel Pessoal,Desbloqueio\r\n",
      "8,CLARO,Móvel Pessoal,Planos de serviço\r\n"
     ]
    }
   ],
   "source": [
    "!head operadoras.csv"
   ]
  }
 ],
 "metadata": {
  "kernelspec": {
   "display_name": "Python 3",
   "language": "python",
   "name": "python3"
  },
  "language_info": {
   "codemirror_mode": {
    "name": "ipython",
    "version": 3
   },
   "file_extension": ".py",
   "mimetype": "text/x-python",
   "name": "python",
   "nbconvert_exporter": "python",
   "pygments_lexer": "ipython3",
   "version": "3.7.3"
  }
 },
 "nbformat": 4,
 "nbformat_minor": 2
}
